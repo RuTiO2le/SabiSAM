{
  "nbformat": 4,
  "nbformat_minor": 0,
  "metadata": {
    "colab": {
      "provenance": [],
      "collapsed_sections": [
        "tlbU85oXMDxx"
      ],
      "toc_visible": true,
      "machine_shape": "hm",
      "gpuType": "V100",
      "mount_file_id": "1OAcyVQtbOfO7vb3FzcAh7dIyi9s09ZLX",
      "authorship_tag": "ABX9TyNSRw36D1Fjbooq6TaMUl6l",
      "include_colab_link": true
    },
    "kernelspec": {
      "name": "python3",
      "display_name": "Python 3"
    },
    "language_info": {
      "name": "python"
    },
    "accelerator": "GPU"
  },
  "cells": [
    {
      "cell_type": "markdown",
      "metadata": {
        "id": "view-in-github",
        "colab_type": "text"
      },
      "source": [
        "<a href=\"https://colab.research.google.com/github/RuTiO2le/SabiSAM/blob/f/AdaptiveSAM.ipynb\" target=\"_parent\"><img src=\"https://colab.research.google.com/assets/colab-badge.svg\" alt=\"Open In Colab\"/></a>"
      ]
    },
    {
      "cell_type": "code",
      "source": [
        "!nvidia-smi"
      ],
      "metadata": {
        "colab": {
          "base_uri": "https://localhost:8080/"
        },
        "id": "S9N0OSSZ63L3",
        "outputId": "0e36aeb5-14e0-4d7a-c92f-ff71378efe2f"
      },
      "execution_count": null,
      "outputs": [
        {
          "output_type": "stream",
          "name": "stdout",
          "text": [
            "Sun Nov 12 14:20:17 2023       \n",
            "+-----------------------------------------------------------------------------+\n",
            "| NVIDIA-SMI 525.105.17   Driver Version: 525.105.17   CUDA Version: 12.0     |\n",
            "|-------------------------------+----------------------+----------------------+\n",
            "| GPU  Name        Persistence-M| Bus-Id        Disp.A | Volatile Uncorr. ECC |\n",
            "| Fan  Temp  Perf  Pwr:Usage/Cap|         Memory-Usage | GPU-Util  Compute M. |\n",
            "|                               |                      |               MIG M. |\n",
            "|===============================+======================+======================|\n",
            "|   0  Tesla V100-SXM2...  Off  | 00000000:00:04.0 Off |                    0 |\n",
            "| N/A   32C    P0    23W / 300W |      0MiB / 16384MiB |      0%      Default |\n",
            "|                               |                      |                  N/A |\n",
            "+-------------------------------+----------------------+----------------------+\n",
            "                                                                               \n",
            "+-----------------------------------------------------------------------------+\n",
            "| Processes:                                                                  |\n",
            "|  GPU   GI   CI        PID   Type   Process name                  GPU Memory |\n",
            "|        ID   ID                                                   Usage      |\n",
            "|=============================================================================|\n",
            "|  No running processes found                                                 |\n",
            "+-----------------------------------------------------------------------------+\n"
          ]
        }
      ]
    },
    {
      "cell_type": "code",
      "source": [
        "!git clone https://github.com/RuTiO2le/SabiSAM.git\n",
        "!mv SabiSAM biastuning\n",
        "%cd biastuning"
      ],
      "metadata": {
        "colab": {
          "base_uri": "https://localhost:8080/"
        },
        "id": "DApuaDdG5Vct",
        "outputId": "cd48c75a-e76b-46f8-db4a-3a6d3f8388ec"
      },
      "execution_count": null,
      "outputs": [
        {
          "output_type": "stream",
          "name": "stdout",
          "text": [
            "Cloning into 'SabiSAM'...\n",
            "remote: Enumerating objects: 2945, done.\u001b[K\n",
            "remote: Total 2945 (delta 0), reused 0 (delta 0), pack-reused 2945\u001b[K\n",
            "Receiving objects: 100% (2945/2945), 322.89 MiB | 12.60 MiB/s, done.\n",
            "Resolving deltas: 100% (311/311), done.\n",
            "Updating files: 100% (2721/2721), done.\n",
            "/content/biastuning\n"
          ]
        }
      ]
    },
    {
      "cell_type": "code",
      "source": [
        "!pip install -r requirements.txt > installment_log.txt"
      ],
      "metadata": {
        "colab": {
          "base_uri": "https://localhost:8080/"
        },
        "id": "rsQ3rNbnOZZr",
        "outputId": "41aa7c90-1d06-4acc-ce9e-13a5812289d9"
      },
      "execution_count": null,
      "outputs": [
        {
          "output_type": "stream",
          "name": "stdout",
          "text": [
            "\u001b[31mERROR: pip's dependency resolver does not currently take into account all the packages that are installed. This behaviour is the source of the following dependency conflicts.\n",
            "lida 0.0.10 requires fastapi, which is not installed.\n",
            "lida 0.0.10 requires kaleido, which is not installed.\n",
            "lida 0.0.10 requires python-multipart, which is not installed.\n",
            "lida 0.0.10 requires uvicorn, which is not installed.\n",
            "llmx 0.0.15a0 requires cohere, which is not installed.\n",
            "llmx 0.0.15a0 requires openai, which is not installed.\n",
            "llmx 0.0.15a0 requires tiktoken, which is not installed.\n",
            "bigframes 0.13.0 requires scikit-learn>=1.2.2, but you have scikit-learn 1.2.0 which is incompatible.\n",
            "google-colab 1.0.0 requires google-auth==2.17.3, but you have google-auth 2.15.0 which is incompatible.\n",
            "google-colab 1.0.0 requires pandas==1.5.3, but you have pandas 1.5.2 which is incompatible.\n",
            "google-colab 1.0.0 requires requests==2.31.0, but you have requests 2.28.2 which is incompatible.\n",
            "tensorboard 2.14.1 requires google-auth-oauthlib<1.1,>=0.5, but you have google-auth-oauthlib 0.4.6 which is incompatible.\n",
            "tensorboard 2.14.1 requires tensorboard-data-server<0.8.0,>=0.7.0, but you have tensorboard-data-server 0.6.1 which is incompatible.\n",
            "torchdata 0.7.0 requires torch==2.1.0, but you have torch 2.0.1 which is incompatible.\n",
            "torchtext 0.16.0 requires torch==2.1.0, but you have torch 2.0.1 which is incompatible.\n",
            "yfinance 0.2.31 requires requests>=2.31, but you have requests 2.28.2 which is incompatible.\u001b[0m\u001b[31m\n",
            "\u001b[0m"
          ]
        }
      ]
    },
    {
      "cell_type": "code",
      "source": [
        "!rm /content/biastuning/Sabi/512x512/Train/mask_512/*.png"
      ],
      "metadata": {
        "id": "yEE6irD36wZ0"
      },
      "execution_count": null,
      "outputs": []
    },
    {
      "cell_type": "code",
      "source": [
        "# root_path = '/content/biastuning/Sabi/512x512/Train'\n",
        "\n",
        "# data_config = f\"\"\"data_transforms:\n",
        "#   a_min: 0\n",
        "#   a_max: 512\n",
        "#   img_size: 512\n",
        "#   use_random_crop: False\n",
        "#   use_rotation: True\n",
        "#   rotation_angle: 10\n",
        "#   use_saturation: False\n",
        "#   saturation: 2\n",
        "#   use_brightness: False\n",
        "#   brightness: 2\n",
        "#   use_horizontal_flip: False\n",
        "# data:\n",
        "#   name: CHOLEC 8K\n",
        "#   root_path: '{root_path}'\n",
        "#   label_list: [1,2,3]\n",
        "#   label_names: ['Fair', 'Poor', 'Severe']\n",
        "#   volume_channel: 2\"\"\"\n",
        "\n",
        "# with open(\"config_cholec8k.yml\", \"w\") as f:\n",
        "#     f.write(data_config)"
      ],
      "metadata": {
        "id": "ciE7JIXxMR83"
      },
      "execution_count": null,
      "outputs": []
    },
    {
      "cell_type": "code",
      "source": [
        "# 学習\n",
        "!python driver_scratchpad.py --model_config model_biastuning.yml --data_config config_cholec8k.yml --save_path \"./temp.pth\""
      ],
      "metadata": {
        "colab": {
          "base_uri": "https://localhost:8080/"
        },
        "id": "TgOvNm1lMRVa",
        "outputId": "7140ebeb-c9da-4f9c-b65a-db535fd7b095"
      },
      "execution_count": null,
      "outputs": [
        {
          "output_type": "stream",
          "name": "stdout",
          "text": [
            "{'USE_TEXT_PROMPT': True, 'USE_IMAGE_PROMPT': False, 'LOCATION': 'prepend', 'DROPOUT': 0, 'NUM_TOKENS': 5}\n",
            "100%|███████████████████████████████████████| 354M/354M [00:06<00:00, 56.3MiB/s]\n",
            "number of trainable parameters:  5103920\n",
            "Training parameters: \n",
            "----------\n",
            "batch size:  32\n",
            "num epochs:  1000\n",
            "Epoch 0/999\n",
            "----------\n",
            "Traceback (most recent call last):\n",
            "  File \"/content/biastuning/driver_scratchpad.py\", line 208, in <module>\n",
            "    main_train(data_config, model_config, args.pretrained_path, args.save_path, args.training_strategy, device=args.device)\n",
            "  File \"/content/biastuning/driver_scratchpad.py\", line 182, in main_train\n",
            "    model = train_dl(model, dataloader_dict, dataset_sizes, criterion, optimizer, exp_lr_scheduler, save_path, num_epochs=training_params['num_epochs'], bs=training_params['batch_size'], device=device)\n",
            "  File \"/content/biastuning/train.py\", line 147, in train_dl\n",
            "    outputs = model(inputs, text)\n",
            "  File \"/usr/local/lib/python3.10/dist-packages/torch/nn/modules/module.py\", line 1501, in _call_impl\n",
            "    return forward_call(*args, **kwargs)\n",
            "  File \"/content/biastuning/model.py\", line 124, in forward\n",
            "    image_embeddings = self.sam_encoder(x_img)\n",
            "  File \"/usr/local/lib/python3.10/dist-packages/torch/nn/modules/module.py\", line 1501, in _call_impl\n",
            "    return forward_call(*args, **kwargs)\n",
            "  File \"/content/biastuning/prompt_adapted_segment_anything/modeling/image_encoder.py\", line 169, in forward\n",
            "    x = blk(x)\n",
            "  File \"/usr/local/lib/python3.10/dist-packages/torch/nn/modules/module.py\", line 1501, in _call_impl\n",
            "    return forward_call(*args, **kwargs)\n",
            "  File \"/content/biastuning/prompt_adapted_segment_anything/modeling/image_encoder.py\", line 246, in forward\n",
            "    x = self.attn(x)\n",
            "  File \"/usr/local/lib/python3.10/dist-packages/torch/nn/modules/module.py\", line 1501, in _call_impl\n",
            "    return forward_call(*args, **kwargs)\n",
            "  File \"/content/biastuning/prompt_adapted_segment_anything/modeling/image_encoder.py\", line 308, in forward\n",
            "    attn = attn.softmax(dim=-1)\n",
            "torch.cuda.OutOfMemoryError: CUDA out of memory. Tried to allocate 1.50 GiB (GPU 0; 15.77 GiB total capacity; 13.62 GiB already allocated; 290.12 MiB free; 14.41 GiB reserved in total by PyTorch) If reserved memory is >> allocated memory try setting max_split_size_mb to avoid fragmentation.  See documentation for Memory Management and PYTORCH_CUDA_ALLOC_CONF\n"
          ]
        }
      ]
    },
    {
      "cell_type": "code",
      "source": [
        "%cd eval/endovis\n",
        "!export IMG_PATH=\"/content/biastuning/Sabi/512x512/Test/img\"\n",
        "!export GT_PATH=\"/content/biastuning/Sabi/512x512/Test/mask\"\n",
        "!export PATH_MODEL=\"/content/biastuning/temp.pth\""
      ],
      "metadata": {
        "id": "ljJsxhWo5mQZ"
      },
      "execution_count": null,
      "outputs": []
    },
    {
      "cell_type": "code",
      "source": [
        "import os\n",
        "from PIL import Image\n",
        "\n",
        "base = '/content/biastuning/Sabi/512x512/Test'\n",
        "\n",
        "# マスク画像をjpegに\n",
        "mask_dir_name = os.path.join(base, \"mask_512\")\n",
        "files = os.listdir(mask_dir_name)\n",
        "number_of_exist_masks = []\n",
        "\n",
        "for f in files:\n",
        "    im = Image.open(os.path.join(mask_dir_name, f))\n",
        "    im = im.convert(\"RGB\")\n",
        "    im.save(os.path.join(mask_dir_name, f\"{f[:-4]}.jpeg\"))\n",
        "    number_of_exist_masks.append(int(f[:-4]))"
      ],
      "metadata": {
        "id": "9uKtNbvVyRyL"
      },
      "execution_count": null,
      "outputs": []
    },
    {
      "cell_type": "code",
      "source": [
        "!rm /content/biastuning/Sabi/512x512/Test/mask_512/*.png"
      ],
      "metadata": {
        "id": "OPWcCBFL7_rN"
      },
      "execution_count": null,
      "outputs": []
    },
    {
      "cell_type": "code",
      "source": [
        "endvis = \"\"\"data_transforms:\n",
        "  a_min: 0\n",
        "  a_max: 255\n",
        "  img_size: 256\n",
        "  use_random_crop: False\n",
        "  use_rotation: False\n",
        "  rotation_angle: 10\n",
        "  use_saturation: False\n",
        "  saturation: 2\n",
        "  use_brightness: False\n",
        "  brightness: 2\n",
        "  use_horizontal_flip: False\n",
        "data:\n",
        "  name: ENDOVIS\n",
        "  root_path: '/media/ubuntu/New Volume/jay/endovis17/instrument_1_4_testing/'\n",
        "  label_list: [1,2,3,4,5,6,7,8,9]\n",
        "  label_names: ['Left Prograsp Forceps', 'Maryland Bipolar Forceps', 'Right Prograsp Forceps', 'Left Large Needle Driver', 'Right Large Needle Driver', 'Left Grasping Retractor', 'Right Grasping Retractor', 'Vessel Sealer', 'Monopolar Curved Scissors']\n",
        "  volume_channel: 2\"\"\"\n",
        "\n",
        "with open(\"eval/endovis/config_endovis_test.yml\", \"w\") as f:\n",
        "    f.write(endvis)"
      ],
      "metadata": {
        "id": "Clvk6MCe5Ohq"
      },
      "execution_count": null,
      "outputs": []
    },
    {
      "cell_type": "code",
      "source": [
        "# 推論\n",
        "python generate_predictions.py --model_config config_model_test.yml --data_config config_endovis_test.yml --data_folder $IMG_PATH --gt_path $GT_PATH --save_path \"./temp_results\" --pretrained_path $PATH_MODEL"
      ],
      "metadata": {
        "id": "fmbkVfGU393U"
      },
      "execution_count": null,
      "outputs": []
    },
    {
      "cell_type": "markdown",
      "source": [
        "## git整備する前に使用していた環境構築"
      ],
      "metadata": {
        "id": "x7RmgDyfYASZ"
      }
    },
    {
      "cell_type": "code",
      "execution_count": null,
      "metadata": {
        "colab": {
          "base_uri": "https://localhost:8080/"
        },
        "id": "LR-5W4NBIyXz",
        "outputId": "d804b658-bb71-4377-de3f-db585f1399a8"
      },
      "outputs": [
        {
          "output_type": "stream",
          "name": "stdout",
          "text": [
            "Cloning into 'biastuning'...\n",
            "remote: Enumerating objects: 337, done.\u001b[K\n",
            "remote: Counting objects: 100% (337/337), done.\u001b[K\n",
            "remote: Compressing objects: 100% (206/206), done.\u001b[K\n",
            "remote: Total 337 (delta 206), reused 249 (delta 123), pack-reused 0\u001b[K\n",
            "Receiving objects: 100% (337/337), 3.89 MiB | 7.51 MiB/s, done.\n",
            "Resolving deltas: 100% (206/206), done.\n"
          ]
        }
      ],
      "source": [
        "!git clone https://github.com/JayParanjape/biastuning.git"
      ]
    },
    {
      "cell_type": "code",
      "source": [
        "%cd biastuning"
      ],
      "metadata": {
        "colab": {
          "base_uri": "https://localhost:8080/"
        },
        "id": "6sSrGfnZOVO-",
        "outputId": "0b406250-aa05-40f2-9b47-16fcb9ba8687"
      },
      "execution_count": null,
      "outputs": [
        {
          "output_type": "stream",
          "name": "stdout",
          "text": [
            "/content/biastuning\n"
          ]
        }
      ]
    },
    {
      "cell_type": "code",
      "source": [
        "!unzip /content/drive/MyDrive/datasets/Corrosion_Condition_State_Classification.zip -qq"
      ],
      "metadata": {
        "colab": {
          "base_uri": "https://localhost:8080/"
        },
        "id": "ZUcUc_RRtHPN",
        "outputId": "5f71c216-3d13-4f2b-a144-a63bf6255454"
      },
      "execution_count": null,
      "outputs": [
        {
          "output_type": "stream",
          "name": "stdout",
          "text": [
            "Archive:  /content/drive/MyDrive/datasets/Corrosion_Condition_State_Classification.zip\n",
            "caution: filename not matched:  -qq\n"
          ]
        }
      ]
    },
    {
      "cell_type": "code",
      "source": [
        "import yaml\n",
        "import re\n",
        "\n",
        "# バージョン指定の有無\n",
        "version = True\n",
        "# yamlファイル\n",
        "yaml_path = \"biastuning_env.yml\"\n",
        "\n",
        "with open(yaml_path) as data:\n",
        "    yaml_obj = yaml.safe_load(data)\n",
        "\n",
        "    requirements = []\n",
        "    for dep in yaml_obj['dependencies']:\n",
        "        if isinstance(dep, str):\n",
        "            dep_l = re.split('=', dep)\n",
        "            # 除外対象\n",
        "            res = re.match('python|pip|setuptools', dep)\n",
        "            if res is None:\n",
        "                if version and len(dep_l) == 2:\n",
        "                    requirements.append(dep_l[0] + '==' + dep_l[1])\n",
        "                else:\n",
        "                    requirements.append(dep_l[0])\n",
        "        else:\n",
        "            for preq in dep.get('pip', []):\n",
        "                preq_s = re.sub('>=|<=|>|<|==', '#', preq)\n",
        "                preq_s_l = re.split('#', preq_s)\n",
        "\n",
        "                if preq_s_l[0]:\n",
        "                    res = re.match('-e', preq_s_l[0])\n",
        "                    if res is None:\n",
        "                        new_string = preq_s_l[0]\n",
        "                    else:\n",
        "                        new_string = preq.lstrip(\"-e | -e .\")\n",
        "                        new_string = new_string.strip()\n",
        "\n",
        "                if version:\n",
        "                    new_string = preq.lstrip(\"-e | -e .\")\n",
        "                    requirements.append(new_string)\n",
        "                else:\n",
        "                    requirements.append(new_string)\n",
        "\n",
        "with open('requirements.txt', 'w') as fp:\n",
        "    for requirement in requirements:\n",
        "        print(requirement, file=fp)"
      ],
      "metadata": {
        "colab": {
          "base_uri": "https://localhost:8080/",
          "height": 259
        },
        "id": "ZcNDA3cxLldI",
        "outputId": "70959454-69dc-48df-806d-f2a25fae7511"
      },
      "execution_count": null,
      "outputs": [
        {
          "output_type": "error",
          "ename": "FileNotFoundError",
          "evalue": "ignored",
          "traceback": [
            "\u001b[0;31m---------------------------------------------------------------------------\u001b[0m",
            "\u001b[0;31mFileNotFoundError\u001b[0m                         Traceback (most recent call last)",
            "\u001b[0;32m<ipython-input-5-df337e0479b9>\u001b[0m in \u001b[0;36m<cell line: 9>\u001b[0;34m()\u001b[0m\n\u001b[1;32m      7\u001b[0m \u001b[0myaml_path\u001b[0m \u001b[0;34m=\u001b[0m \u001b[0;34m\"biastuning_env.yml\"\u001b[0m\u001b[0;34m\u001b[0m\u001b[0;34m\u001b[0m\u001b[0m\n\u001b[1;32m      8\u001b[0m \u001b[0;34m\u001b[0m\u001b[0m\n\u001b[0;32m----> 9\u001b[0;31m \u001b[0;32mwith\u001b[0m \u001b[0mopen\u001b[0m\u001b[0;34m(\u001b[0m\u001b[0myaml_path\u001b[0m\u001b[0;34m)\u001b[0m \u001b[0;32mas\u001b[0m \u001b[0mdata\u001b[0m\u001b[0;34m:\u001b[0m\u001b[0;34m\u001b[0m\u001b[0;34m\u001b[0m\u001b[0m\n\u001b[0m\u001b[1;32m     10\u001b[0m     \u001b[0myaml_obj\u001b[0m \u001b[0;34m=\u001b[0m \u001b[0myaml\u001b[0m\u001b[0;34m.\u001b[0m\u001b[0msafe_load\u001b[0m\u001b[0;34m(\u001b[0m\u001b[0mdata\u001b[0m\u001b[0;34m)\u001b[0m\u001b[0;34m\u001b[0m\u001b[0;34m\u001b[0m\u001b[0m\n\u001b[1;32m     11\u001b[0m \u001b[0;34m\u001b[0m\u001b[0m\n",
            "\u001b[0;31mFileNotFoundError\u001b[0m: [Errno 2] No such file or directory: 'biastuning_env.yml'"
          ]
        }
      ]
    },
    {
      "cell_type": "code",
      "source": [
        "req = \"\"\"absl-py==1.3.0\n",
        "addict==2.4.0\n",
        "appdirs==1.4.4\n",
        "argparse==1.4.0\n",
        "batchgenerators==0.25\n",
        "beautifulsoup4==4.11.1\n",
        "cachetools==5.2.0\n",
        "chardet==3.0.4\n",
        "charset-normalizer==3.1.0\n",
        "click==8.1.3\n",
        "cmake==3.26.3\n",
        "contourpy==1.0.7\n",
        "cycler==0.11.0\n",
        "docker-pycreds==0.4.0\n",
        "efficientnet-pytorch==0.7.1\n",
        "entrypoints==0.3\n",
        "exceptiongroup==1.1.1\n",
        "filelock==3.8.2\n",
        "flake8==3.7.9\n",
        "fonttools==4.39.3\n",
        "ftfy==6.1.1\n",
        "future==0.18.2\n",
        "gdown==4.6.0\n",
        "gensim==4.3.1\n",
        "gitdb==4.0.10\n",
        "gitpython==3.1.31\n",
        "google-auth==2.15.0\n",
        "google-auth-oauthlib==0.4.6\n",
        "googletrans==3.0.0\n",
        "grpcio==1.51.1\n",
        "h11==0.9.0\n",
        "h2==3.2.0\n",
        "h5py==3.8.0\n",
        "hpack==3.0.0\n",
        "hstspreload==2023.1.1\n",
        "httpcore==0.9.1\n",
        "httpx==0.13.3\n",
        "huggingface-hub==0.11.1\n",
        "hyperframe==5.2.0\n",
        "idna==2.10\n",
        "imageio==2.28.0\n",
        "importlib-metadata==5.2.0\n",
        "importlib-resources==5.12.0\n",
        "iniconfig==2.0.0\n",
        "isort==4.3.21\n",
        "jinja2==3.1.2\n",
        "joblib==1.2.0\n",
        "kiwisolver==1.4.4\n",
        "lazy-loader==0.2\n",
        "linecache2==1.0.0\n",
        "lit==16.0.3\n",
        "littleutils==0.2.2\n",
        "markdown==3.4.1\n",
        "markupsafe==2.1.1\n",
        "matplotlib==3.7.1\n",
        "mccabe==0.6.1\n",
        "mpmath==1.3.0\n",
        "munch==3.0.0\n",
        "networkx==3.1\n",
        "nibabel==5.1.0\n",
        "nltk==3.8.1\n",
        "numpy==1.24.2\n",
        "nvidia-cublas-cu11==11.10.3.66\n",
        "nvidia-cuda-cupti-cu11==11.7.101\n",
        "nvidia-cuda-nvrtc-cu11==11.7.99\n",
        "nvidia-cuda-runtime-cu11==11.7.99\n",
        "nvidia-cudnn-cu11==8.5.0.96\n",
        "nvidia-cufft-cu11==10.9.0.58\n",
        "nvidia-curand-cu11==10.2.10.91\n",
        "nvidia-cusolver-cu11==11.4.0.1\n",
        "nvidia-cusparse-cu11==11.7.4.91\n",
        "nvidia-nccl-cu11==2.14.3\n",
        "nvidia-nvtx-cu11==11.7.91\n",
        "oauthlib==3.2.2\n",
        "ogb==1.3.5\n",
        "opencv-python==4.6.0.66\n",
        "outdated==0.2.2\n",
        "packaging==22.0\n",
        "pandas==1.5.2\n",
        "pathtools==0.1.2\n",
        "pillow==9.5.0\n",
        "pluggy==1.0.0\n",
        "pretrainedmodels==0.7.4\n",
        "protobuf==3.20.3\n",
        "psutil==5.9.4\n",
        "pyasn1==0.4.8\n",
        "pyasn1-modules==0.2.8\n",
        "pycocotools==2.0.6\n",
        "pycodestyle==2.5.0\n",
        "pyflakes==2.1.1\n",
        "pyparsing==3.0.9\n",
        "pytest==7.3.1\n",
        "pytz==2022.7\n",
        "pywavelets==1.4.1\n",
        "pyyaml==6.0\n",
        "regex==2022.10.31\n",
        "requests==2.28.2\n",
        "requests-oauthlib==1.3.1\n",
        "rfc3986==1.5.0\n",
        "rsa==4.9\n",
        "scikit-image==0.20.0\n",
        "scikit-learn==1.2.0\n",
        "scipy==1.9.1\n",
        "sentry-sdk==1.18.0\n",
        "setproctitle==1.3.2\n",
        "simpleitk==2.2.1\n",
        "smart-open==6.3.0\n",
        "smmap==5.0.0\n",
        "sniffio==1.3.0\n",
        "soupsieve==2.3.2.post1\n",
        "supervision==0.3.2\n",
        "surface-distance-based-measures==0.1\n",
        "sympy==1.12\n",
        "tabulate==0.9.0\n",
        "tb-nightly==2.12.0a20221225\n",
        "tensorboard-data-server==0.6.1\n",
        "tensorboard-plugin-wit==1.8.1\n",
        "textaugment==1.3.4\n",
        "textblob==0.17.1\n",
        "threadpoolctl==3.1.0\n",
        "tifffile==2023.4.12\n",
        "timm==0.6.13\n",
        "tokenizers==0.13.3\n",
        "tomli==2.0.1\n",
        "torch==2.0.1\n",
        "torchaudio\n",
        "torchvision==0.15.2\n",
        "tqdm==4.64.1\n",
        "traceback2==1.4.0\n",
        "transformers==4.27.4\n",
        "triton==2.0.0\n",
        "unittest2==1.1.0\n",
        "urllib3==1.26.15\n",
        "wandb==0.14.0\n",
        "werkzeug==2.2.2\n",
        "wget==3.2\n",
        "wheel==0.38.4\n",
        "wilds==1.2.2\n",
        "yacs==0.1.8\n",
        "yapf==0.29.0\"\"\"\n",
        "\n",
        "with open('requirements.txt', 'w') as fp:\n",
        "    print(req, file=fp)"
      ],
      "metadata": {
        "id": "4tlUYbhPPCQI"
      },
      "execution_count": null,
      "outputs": []
    },
    {
      "cell_type": "code",
      "source": [
        "root_path = '/content/drive/MyDrive/datasets/corrosion_condition_state_classification/512x512/Test'\n",
        "\n",
        "data_config = f\"\"\"data_transforms:\n",
        "  a_min: 0\n",
        "  a_max: 512\n",
        "  img_size: 512\n",
        "  use_random_crop: False\n",
        "  use_rotation: True\n",
        "  rotation_angle: 10\n",
        "  use_saturation: False\n",
        "  saturation: 2\n",
        "  use_brightness: False\n",
        "  brightness: 2\n",
        "  use_horizontal_flip: False\n",
        "data:\n",
        "  name: CHOLEC 8K\n",
        "  root_path: '{root_path}'\n",
        "  label_list: [1,2,3]\n",
        "  label_names: ['Fair', 'Poor', 'Severe']\n",
        "  volume_channel: 2\"\"\"\n",
        "\n",
        "with open(\"config_cholec8k.yml\", \"w\") as f:\n",
        "    f.write(data_config)"
      ],
      "metadata": {
        "id": "MBUzoJzO3A9N"
      },
      "execution_count": null,
      "outputs": []
    },
    {
      "cell_type": "code",
      "source": [
        "root_path = '/content/biastuning/Sabi/512x512/Train'\n",
        "\n",
        "data_config = f\"\"\"data_transforms:\n",
        "  a_min: 0\n",
        "  a_max: 512\n",
        "  img_size: 512\n",
        "  use_random_crop: False\n",
        "  use_rotation: True\n",
        "  rotation_angle: 10\n",
        "  use_saturation: False\n",
        "  saturation: 2\n",
        "  use_brightness: False\n",
        "  brightness: 2\n",
        "  use_horizontal_flip: False\n",
        "data:\n",
        "  name: CHOLEC 8K\n",
        "  root_path: '{root_path}'\n",
        "  label_list: [1,2,3]\n",
        "  label_names: ['Fair', 'Poor', 'Severe']\n",
        "  volume_channel: 2\"\"\"\n",
        "\n",
        "with open(\"config_cholec8k.yml\", \"w\") as f:\n",
        "    f.write(data_config)"
      ],
      "metadata": {
        "id": "qNiNgGkh7hSh"
      },
      "execution_count": null,
      "outputs": []
    },
    {
      "cell_type": "code",
      "source": [
        "!python driver_scratchpad.py --model_config model_biastuning.yml --data_config config_cholec8k.yml --save_path \"./temp.pth\""
      ],
      "metadata": {
        "id": "sR-hUFfK3I4h"
      },
      "execution_count": null,
      "outputs": []
    },
    {
      "cell_type": "code",
      "source": [
        "# これだとエラー（これに関しては上も共通）\n",
        "# !python driver_scratchpad.py --model_config model_biastuning.yml --data_config config_cholec8k.yml --save_path --pretrained_path \"/content/drive/MyDrive/endovis17/ev17_textaffine_decoder_biastuning_blanklabels_focal.pth\""
      ],
      "metadata": {
        "id": "MiqQTLOGXzng"
      },
      "execution_count": null,
      "outputs": []
    },
    {
      "cell_type": "markdown",
      "source": [
        "requirementsを書き換えない場合"
      ],
      "metadata": {
        "id": "7u0H4UcQ24rc"
      }
    },
    {
      "cell_type": "code",
      "source": [
        "# !pip install ftfy"
      ],
      "metadata": {
        "colab": {
          "base_uri": "https://localhost:8080/"
        },
        "id": "MWaiHVpqMR61",
        "outputId": "c0e9cd32-c408-4d42-8557-8f0982eeb3a2"
      },
      "execution_count": null,
      "outputs": [
        {
          "output_type": "stream",
          "name": "stdout",
          "text": [
            "Collecting ftfy\n",
            "  Downloading ftfy-6.1.1-py3-none-any.whl (53 kB)\n",
            "\u001b[?25l     \u001b[90m━━━━━━━━━━━━━━━━━━━━━━━━━━━━━━━━━━━━━━━━\u001b[0m \u001b[32m0.0/53.1 kB\u001b[0m \u001b[31m?\u001b[0m eta \u001b[36m-:--:--\u001b[0m\r\u001b[2K     \u001b[90m━━━━━━━━━━━━━━━━━━━━━━━━━━━━━━━━━━━━━━━━\u001b[0m \u001b[32m53.1/53.1 kB\u001b[0m \u001b[31m1.9 MB/s\u001b[0m eta \u001b[36m0:00:00\u001b[0m\n",
            "\u001b[?25hRequirement already satisfied: wcwidth>=0.2.5 in /usr/local/lib/python3.10/dist-packages (from ftfy) (0.2.9)\n",
            "Installing collected packages: ftfy\n",
            "Successfully installed ftfy-6.1.1\n"
          ]
        }
      ]
    },
    {
      "cell_type": "code",
      "source": [
        "!git clone https://github.com/openai/CLIP.git"
      ],
      "metadata": {
        "colab": {
          "base_uri": "https://localhost:8080/"
        },
        "id": "xqFg5pJbMRu3",
        "outputId": "6e1e08dc-9daa-4213-c77a-2532e030987b"
      },
      "execution_count": null,
      "outputs": [
        {
          "output_type": "stream",
          "name": "stdout",
          "text": [
            "Cloning into 'CLIP'...\n",
            "remote: Enumerating objects: 251, done.\u001b[K\n",
            "remote: Counting objects: 100% (8/8), done.\u001b[K\n",
            "remote: Compressing objects: 100% (8/8), done.\u001b[K\n",
            "remote: Total 251 (delta 3), reused 3 (delta 0), pack-reused 243\u001b[K\n",
            "Receiving objects: 100% (251/251), 8.93 MiB | 11.84 MiB/s, done.\n",
            "Resolving deltas: 100% (127/127), done.\n"
          ]
        }
      ]
    },
    {
      "cell_type": "code",
      "source": [
        "!mv /content/biastuning/CLIP/clip/bpe_simple_vocab_16e6.txt.gz /content/biastuning/clip/bpe_simple_vocab_16e6.txt.gz"
      ],
      "metadata": {
        "id": "FbmkGNv-Q3kO"
      },
      "execution_count": null,
      "outputs": []
    },
    {
      "cell_type": "code",
      "source": [
        "ls /content/drive/MyDrive/datasets/corrosion_condition_state_classification/512x512/Test"
      ],
      "metadata": {
        "colab": {
          "base_uri": "https://localhost:8080/"
        },
        "id": "njqzMxPxRlI8",
        "outputId": "15789bbb-c079-4edf-e382-bc9e59c6b6f2"
      },
      "execution_count": null,
      "outputs": [
        {
          "output_type": "stream",
          "name": "stdout",
          "text": [
            "\u001b[0m\u001b[01;34mimages_512\u001b[0m/  \u001b[01;34mmask_512\u001b[0m/\n"
          ]
        }
      ]
    },
    {
      "cell_type": "markdown",
      "source": [
        "data_utils.pyのL480を以下のように変更  \n",
        "```python\n",
        "    def populate_lists(self):\n",
        "        path2 = os.path.join(self.root_path, 'mask_512')\n",
        "        for folder in (self.folder_list):\n",
        "            path1 = os.path.join(self.root_path, 'images_512')\n",
        "            for im in sorted(os.listdir(path1)):\n",
        "                im_name = im[:-5]\n",
        "                im_path = os.path.join(path1, im)\n",
        "                label_img_path = os.path.join(path2, im_name+'.jpeg')\n",
        "                self.img_names.append(im_name)\n",
        "                self.img_path_list.append(os.path.join(im_path))\n",
        "                self.label_path_list.append(os.path.join(label_img_path))\n",
        "                self.label_list.append('')\n",
        "```"
      ],
      "metadata": {
        "id": "EZcWX_ofRyBh"
      }
    },
    {
      "cell_type": "markdown",
      "source": [
        "data_utils.pyの\n",
        "`no_text_mode=False`を全て`no_text_mode=True`に"
      ],
      "metadata": {
        "id": "ejiiF4MVcm23"
      }
    },
    {
      "cell_type": "markdown",
      "source": [
        "- clip.pyはもう一回実行すれば解消"
      ],
      "metadata": {
        "id": "Suh50tf0V8CK"
      }
    },
    {
      "cell_type": "markdown",
      "source": [
        "model.pyのL87\n",
        "```python\n",
        "/content/drive/MyDrive/endovis17/ev17_textaffine_decoder_biastuning_blanklabels_focal.pth\n",
        "```"
      ],
      "metadata": {
        "id": "ZAxviD-yXbOK"
      }
    },
    {
      "cell_type": "markdown",
      "source": [
        "## condaをインストールしようとした残骸"
      ],
      "metadata": {
        "id": "tlbU85oXMDxx"
      }
    },
    {
      "cell_type": "code",
      "source": [
        "!echo $PYTHONPATH"
      ],
      "metadata": {
        "colab": {
          "base_uri": "https://localhost:8080/"
        },
        "id": "TIlM7Mm9I6bZ",
        "outputId": "efcc4844-29e2-4eba-98a5-d5669c548053"
      },
      "execution_count": null,
      "outputs": [
        {
          "output_type": "stream",
          "name": "stdout",
          "text": [
            "/env/python\n"
          ]
        }
      ]
    },
    {
      "cell_type": "code",
      "source": [
        "%env PYTHONPATH="
      ],
      "metadata": {
        "colab": {
          "base_uri": "https://localhost:8080/"
        },
        "id": "sE5KExUyJN0Z",
        "outputId": "bc801403-2891-4ca6-dcc0-ae661ca02610"
      },
      "execution_count": null,
      "outputs": [
        {
          "output_type": "stream",
          "name": "stdout",
          "text": [
            "env: PYTHONPATH=\n"
          ]
        }
      ]
    },
    {
      "cell_type": "code",
      "source": [
        "%%bash\n",
        "\n",
        "MINICONDA_INSTALLER_SCRIPT=Miniconda3-latest-Linux-x86_64.sh\n",
        "MINICONDA_PREFIX=/usr/local\n",
        "wget https://repo.continuum.io/miniconda/$MINICONDA_INSTALLER_SCRIPT\n",
        "chmod +x $MINICONDA_INSTALLER_SCRIPT\n",
        "./$MINICONDA_INSTALLER_SCRIPT -b -f -p $MINICONDA_PREFIX"
      ],
      "metadata": {
        "id": "vD32FSkvJS3K"
      },
      "execution_count": null,
      "outputs": []
    },
    {
      "cell_type": "code",
      "source": [
        "!which conda"
      ],
      "metadata": {
        "colab": {
          "base_uri": "https://localhost:8080/"
        },
        "id": "1wy6ynarJWrH",
        "outputId": "27502dec-a450-49cc-e543-297e5f1bf4b8"
      },
      "execution_count": null,
      "outputs": [
        {
          "output_type": "stream",
          "name": "stdout",
          "text": [
            "/usr/local/bin/conda\n"
          ]
        }
      ]
    },
    {
      "cell_type": "code",
      "source": [
        "ls"
      ],
      "metadata": {
        "colab": {
          "base_uri": "https://localhost:8080/"
        },
        "id": "T4g7wSIKKNHV",
        "outputId": "6069bf19-84aa-462f-8b39-817345058923"
      },
      "execution_count": null,
      "outputs": [
        {
          "output_type": "stream",
          "name": "stdout",
          "text": [
            "axialnet.py           config_tmp.yml          model.py\n",
            "baselines.py          config_ultrasound.yml   \u001b[0m\u001b[01;34mprompt_adapted_segment_anything\u001b[0m/\n",
            "biastuning_env.yml    \u001b[01;34mdata_transforms\u001b[0m/        README.md\n",
            "\u001b[01;34mclip\u001b[0m/                 data_utils.py           scratchpad.ipynb\n",
            "config_chestxdet.yml  driver_scratchpad.py    test.py\n",
            "config_cholec8k.yml   \u001b[01;34meval\u001b[0m/                   train_baselines.py\n",
            "config_endovis18.yml  model_baseline.yml      train.py\n",
            "config_endovis.yml    model_biastuning.yml    utils.py\n",
            "config_idrid.yml      \u001b[01;34mmodel_components\u001b[0m/       vit_seg_configs.py\n",
            "config_kvasirseg.yml  model_fdn.yml           vit_seg_modeling.py\n",
            "config_lits.yml       model_prompttuning.yml  vit_seg_modeling_resnet_skip.py\n"
          ]
        }
      ]
    },
    {
      "cell_type": "code",
      "source": [
        "%cd biastuning"
      ],
      "metadata": {
        "colab": {
          "base_uri": "https://localhost:8080/"
        },
        "id": "qxZOQAmHJs-Q",
        "outputId": "56170173-349f-497e-8036-ccf4eac312bf"
      },
      "execution_count": null,
      "outputs": [
        {
          "output_type": "stream",
          "name": "stdout",
          "text": [
            "[Errno 2] No such file or directory: 'biastuning'\n",
            "/content/biastuning\n",
            "Collecting package metadata (repodata.json): - \b\b\\ \b\b| \b\b/ \b\b- \b\b\\ \b\b| \b\b/ \b\b- \b\b\\ \b\b| \b\b/ \b\b- \b\b\\ \b\b| \b\b/ \b\b- \b\b\\ \b\b| \b\b/ \b\b- \b\b\\ \b\b| \b\b/ \b\b- \b\b\\ \b\b| \b\b/ \b\b- \b\b\\ \b\b| \b\b/ \b\b- \b\b\\ \b\b| \b\b/ \b\b- \b\b\\ \b\b| \b\b/ \b\b- \b\b\\ \b\b| \b\b/ \b\b- \b\b\\ \b\b| \b\b/ \b\b- \b\b\\ \b\b| \b\b/ \b\b- \b\b\\ \b\b| \b\b/ \b\b- \b\b\\ \b\b| \b\b/ \b\b- \b\b\\ \b\b| \b\b/ \b\b- \b\b\\ \b\b| \b\b/ \b\b- \b\b\\ \b\b| \b\b/ \b\b- \b\b\\ \b\b| \b\b/ \b\b- \b\b\\ \b\b| \b\b/ \b\b- \b\b\\ \b\b| \b\b/ \b\b- \b\b\\ \b\b| \b\b/ \b\b- \b\b\\ \b\b| \b\b/ \b\b- \b\b\\ \b\b| \b\b/ \b\b- \b\b\\ \b\b| \b\b/ \b\b- \b\b\\ \b\b| \b\b/ \b\b- \b\b\\ \b\b| \b\b/ \b\b- \b\bdone\n",
            "Solving environment: | \b\bfailed\n",
            "\n",
            "ResolvePackageNotFound: \n",
            "  - ml-collections\n",
            "\n",
            "usage: conda [-h] [-v] [--no-plugins] [-V] COMMAND ...\n",
            "conda: error: argument COMMAND: invalid choice: 'activate' (choose from 'clean', 'compare', 'config', 'create', 'info', 'init', 'install', 'list', 'notices', 'package', 'remove', 'uninstall', 'rename', 'run', 'search', 'update', 'upgrade', 'content-trust', 'doctor', 'repoquery', 'env')\n"
          ]
        }
      ]
    },
    {
      "cell_type": "code",
      "source": [
        "!conda init\n",
        "!conda env create --file=biastuning_env.yml\n",
        "!conda activate biastuning_env"
      ],
      "metadata": {
        "colab": {
          "base_uri": "https://localhost:8080/"
        },
        "id": "voBjF-A7K9CW",
        "outputId": "3f5e7872-5cf1-498d-9148-eac617741af8"
      },
      "execution_count": null,
      "outputs": [
        {
          "output_type": "stream",
          "name": "stdout",
          "text": [
            "no change     /usr/local/condabin/conda\n",
            "no change     /usr/local/bin/conda\n",
            "no change     /usr/local/bin/conda-env\n",
            "no change     /usr/local/bin/activate\n",
            "no change     /usr/local/bin/deactivate\n",
            "no change     /usr/local/etc/profile.d/conda.sh\n",
            "no change     /usr/local/etc/fish/conf.d/conda.fish\n",
            "no change     /usr/local/shell/condabin/Conda.psm1\n",
            "no change     /usr/local/shell/condabin/conda-hook.ps1\n",
            "no change     /usr/local/lib/python3.11/site-packages/xontrib/conda.xsh\n",
            "no change     /usr/local/etc/profile.d/conda.csh\n",
            "modified      /root/.bashrc\n",
            "\n",
            "==> For changes to take effect, close and re-open your current shell. <==\n",
            "\n",
            "Collecting package metadata (repodata.json): - \b\b\\ \b\b| \b\b/ \b\b- \b\b\\ \b\b| \b\b/ \b\b- \b\b\\ \b\b| \b\b/ \b\b- \b\b\\ \b\b| \b\b/ \b\b- \b\b\\ \b\b| \b\b/ \b\b- \b\b\\ \b\b| \b\b/ \b\b- \b\b\\ \b\b| \b\b/ \b\b- \b\b\\ \b\b| \b\b/ \b\b- \b\b\\ \b\b| \b\b/ \b\b- \b\b\\ \b\b| \b\b/ \b\b- \b\b\\ \b\b| \b\b/ \b\b- \b\b\\ \b\b| \b\b/ \b\b- \b\b\\ \b\b| \b\b/ \b\b- \b\b\\ \b\b| \b\b/ \b\b- \b\b\\ \b\b| \b\b/ \b\b- \b\b\\ \b\b| \b\b/ \b\b- \b\bdone\n",
            "Solving environment: | \b\bfailed\n",
            "\n",
            "ResolvePackageNotFound: \n",
            "  - ml-collections\n",
            "\n",
            "usage: conda [-h] [-v] [--no-plugins] [-V] COMMAND ...\n",
            "conda: error: argument COMMAND: invalid choice: 'activate' (choose from 'clean', 'compare', 'config', 'create', 'info', 'init', 'install', 'list', 'notices', 'package', 'remove', 'uninstall', 'rename', 'run', 'search', 'update', 'upgrade', 'content-trust', 'doctor', 'repoquery', 'env')\n"
          ]
        }
      ]
    },
    {
      "cell_type": "code",
      "source": [],
      "metadata": {
        "id": "9GO7uZ511zod"
      },
      "execution_count": null,
      "outputs": []
    }
  ]
}